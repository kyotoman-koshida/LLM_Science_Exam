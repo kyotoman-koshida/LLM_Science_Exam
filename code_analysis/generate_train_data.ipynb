{
 "cells": [
  {
   "cell_type": "markdown",
   "metadata": {},
   "source": [
    "# 学習データ生成ブック"
   ]
  },
  {
   "cell_type": "code",
   "execution_count": 3,
   "metadata": {},
   "outputs": [],
   "source": [
    "import sys\n",
    "\n",
    "sys.path.append(\"../\")"
   ]
  },
  {
   "cell_type": "code",
   "execution_count": 4,
   "metadata": {},
   "outputs": [],
   "source": [
    "from utils.wikipedia_category import WikipediaCategory\n",
    "\n",
    "wikipedia_category = WikipediaCategory()\n",
    "\n",
    "STEM_WEIGHTS = wikipedia_category.CATEGORY_WEIGHTS\n",
    "STEM = wikipedia_category.CATEGORY\n",
    "EXCLUDE_CATEGORIES = wikipedia_category.EXCLUDE_CATEGORIES"
   ]
  },
  {
   "cell_type": "markdown",
   "metadata": {},
   "source": [
    "プロンプトの指定"
   ]
  },
  {
   "cell_type": "code",
   "execution_count": 5,
   "metadata": {},
   "outputs": [],
   "source": [
    "delimiter = \"####\"\n",
    "system_message = f\"\"\"\n",
    "You will be provided with text from Wikipedia, separated by {delimiter} characters. \n",
    "From that text, create only one multiple-choice question with 5 options, and express it as a dictionary object. Furthermore, store that dictionary object in a Python list and output it. The dictionary object follows this format:\n",
    "'question': <question based on the TEXT>\n",
    "'option_1': <question answer option>\n",
    "'option_2': <question answer option>\n",
    "'option_3': <question answer option>\n",
    "'option_4': <question answer option>\n",
    "'option_5': <question answer option>\n",
    "'answer': <answer option key label>\n",
    "Among the suggested options, the correct one is indicated by assigning the key label ('option_1', 'option_2', 'option_3', 'option_4', 'option_5') to the 'answer' field.\n",
    "The question, answer, and question options should be broad, challenging, detailed, and based on the given text, and should not be easy.\n",
    "Please output only the list of objects, without including anything else.\n",
    "\"\"\""
   ]
  },
  {
   "cell_type": "code",
   "execution_count": 6,
   "metadata": {},
   "outputs": [],
   "source": [
    "from utils.wikipedia_question_generator import WikipediaQuestionGenerator\n",
    "\n",
    "options_set = wikipedia_category.OPTIONS_SET\n",
    "response_keys_set = wikipedia_category.RESPONSE_KEYS_SET\n",
    "wikipedia_question_generator = WikipediaQuestionGenerator(STEM,STEM_WEIGHTS,EXCLUDE_CATEGORIES,system_message,options_set,response_keys_set)"
   ]
  },
  {
   "cell_type": "code",
   "execution_count": 7,
   "metadata": {},
   "outputs": [],
   "source": [
    "multiple_choice_questions, seen_pages, attempts_list \\\n",
    "    = wikipedia_question_generator.gather_multiple_choice_question_dataset(1,10,[],seed=13630338)"
   ]
  },
  {
   "cell_type": "code",
   "execution_count": null,
   "metadata": {},
   "outputs": [],
   "source": [
    "df_mcq = WikipediaQuestionGenerator.conver_to_compet_format_df(multiple_choice_questions)"
   ]
  },
  {
   "cell_type": "code",
   "execution_count": null,
   "metadata": {},
   "outputs": [],
   "source": []
  },
  {
   "cell_type": "markdown",
   "metadata": {},
   "source": [
    "# dumpしたデータセットを復元する場合"
   ]
  },
  {
   "cell_type": "code",
   "execution_count": 1,
   "metadata": {},
   "outputs": [],
   "source": [
    "import pickle\n",
    "\n",
    "with open('../output/pickle/generate_question_2023_09_14.pickle', 'rb') as f:\n",
    "    dataset = pickle.load(f)"
   ]
  },
  {
   "cell_type": "code",
   "execution_count": 2,
   "metadata": {},
   "outputs": [],
   "source": [
    "import pandas as pd\n",
    "\n",
    "dataset_df = pd.DataFrame(dataset)"
   ]
  },
  {
   "cell_type": "code",
   "execution_count": 37,
   "metadata": {},
   "outputs": [],
   "source": [
    "dataset_df.rename(\n",
    "            columns = {\n",
    "                'question': 'prompt', \n",
    "                'option_1': 'A', \n",
    "                'option_2': 'B', \n",
    "                'option_3': 'C', \n",
    "                'option_4': 'D', \n",
    "                'option_5': 'E'\n",
    "            }, \n",
    "            inplace = True\n",
    "        )\n",
    "\n",
    "answer_subjects = {\n",
    "            'option_1': 'A', \n",
    "            'option_2': 'B', \n",
    "            'option_3': 'C', \n",
    "            'option_4': 'D', \n",
    "            'option_5': 'E'\n",
    "        }\n",
    "dataset_df[\"answer\"] = dataset_df[\"answer\"].map(answer_subjects)\n",
    "\n",
    "dataset_df.insert(0, \"id\", list(range(len(dataset_df))))\n",
    "\n",
    "df_compet = dataset_df.drop(columns=[\"wiki_text\", \"page_id\", \"page_title\", \"category_label\"])"
   ]
  },
  {
   "cell_type": "code",
   "execution_count": 38,
   "metadata": {},
   "outputs": [],
   "source": [
    "from utils import get_str_today\n",
    "\n",
    "df_compet.to_csv(f\"../output/dataset/stem_dataset_{get_str_today()}.csv\", index=False)"
   ]
  },
  {
   "cell_type": "markdown",
   "metadata": {},
   "source": [
    "# dumpしたseen_pages(これまでの作問に使ったページ)"
   ]
  },
  {
   "cell_type": "code",
   "execution_count": 1,
   "metadata": {},
   "outputs": [],
   "source": [
    "import pickle\n",
    "\n",
    "with open('../output/pickle/seen_pages_2023_09_12.pickle', 'rb') as f:\n",
    "    seen_pages = pickle.load(f)"
   ]
  },
  {
   "cell_type": "code",
   "execution_count": 2,
   "metadata": {},
   "outputs": [
    {
     "data": {
      "text/plain": [
       "[5944849, 10977940, 23376109]"
      ]
     },
     "execution_count": 2,
     "metadata": {},
     "output_type": "execute_result"
    }
   ],
   "source": [
    "seen_pages"
   ]
  },
  {
   "cell_type": "markdown",
   "metadata": {},
   "source": [
    "# 学習の生成を再現する場合"
   ]
  },
  {
   "cell_type": "markdown",
   "metadata": {},
   "source": [
    "再現したい状況までのseen_pagesとseedを引数にすることで、途中から再実行することができる"
   ]
  },
  {
   "cell_type": "code",
   "execution_count": 7,
   "metadata": {},
   "outputs": [],
   "source": [
    "multiple_choice_questions, seen_pages, attempts_list= wikipedia_question_generator.gather_multiple_choice_question_dataset(pages_count=1,seen_pages=seen_pages,seed=4)"
   ]
  },
  {
   "cell_type": "code",
   "execution_count": 8,
   "metadata": {},
   "outputs": [],
   "source": [
    "df_mcq = WikipediaQuestionGenerator.conver_to_compet_format_df(multiple_choice_questions)"
   ]
  },
  {
   "cell_type": "code",
   "execution_count": null,
   "metadata": {},
   "outputs": [],
   "source": []
  }
 ],
 "metadata": {
  "kernelspec": {
   "display_name": "venv",
   "language": "python",
   "name": "python3"
  },
  "language_info": {
   "codemirror_mode": {
    "name": "ipython",
    "version": 3
   },
   "file_extension": ".py",
   "mimetype": "text/x-python",
   "name": "python",
   "nbconvert_exporter": "python",
   "pygments_lexer": "ipython3",
   "version": "3.10.5"
  },
  "orig_nbformat": 4
 },
 "nbformat": 4,
 "nbformat_minor": 2
}
